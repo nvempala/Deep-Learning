{
 "cells": [
  {
   "cell_type": "markdown",
   "metadata": {},
   "source": [
    "From Jason Brownlee's site, titled machinelearningmastery.com\n",
    "\n",
    "http://machinelearningmastery.com/tutorial-first-neural-network-python-keras/"
   ]
  },
  {
   "cell_type": "code",
   "execution_count": 1,
   "metadata": {
    "collapsed": false
   },
   "outputs": [
    {
     "name": "stderr",
     "output_type": "stream",
     "text": [
      "Using TensorFlow backend.\n"
     ]
    }
   ],
   "source": [
    "import numpy as np\n",
    "\n",
    "from keras.models import Sequential\n",
    "from keras.layers import Dense\n",
    "\n",
    "# fix random seed for reproducibility\n",
    "seed = 4\n",
    "np.random.seed(seed)"
   ]
  },
  {
   "cell_type": "code",
   "execution_count": 2,
   "metadata": {
    "collapsed": false
   },
   "outputs": [],
   "source": [
    "# load Pima Indians dataset\n",
    "dataset = np.loadtxt(\"pima-indians-diabetes.csv\", delimiter=\",\")\n",
    "# split into input (X) and output (Y) variables\n",
    "X = dataset[:,0:8]\n",
    "Y = dataset[:,8]"
   ]
  },
  {
   "cell_type": "code",
   "execution_count": 3,
   "metadata": {
    "collapsed": true
   },
   "outputs": [],
   "source": [
    "# create model\n",
    "model = Sequential()\n",
    "\n",
    "# add 3 layers: \n",
    "# 1st layer has 12 neurons and expects 8 input variables\n",
    "# 2nd hidden layer has 8 neurons\n",
    "# 3rd (output) layer has 1 neuron to predict the class\n",
    "\n",
    "# 'uniform' means we are initializing the network weights to a small random number\n",
    "# generated from a uniform distribution between 0 and 0.05\n",
    "\n",
    "# first two layers are using relu (rectified linear units) as their activation functions) \n",
    "# and output layer is using sigmoid function\n",
    "model.add(Dense(10, input_dim=8, init='uniform', activation='relu'))\n",
    "model.add(Dense(8, init='uniform', activation='relu'))\n",
    "model.add(Dense(1, init='uniform', activation='sigmoid'))"
   ]
  },
  {
   "cell_type": "code",
   "execution_count": null,
   "metadata": {
    "collapsed": true
   },
   "outputs": [],
   "source": [
    "# compile model\n",
    "# We will use 'binary_crossentropy' (logarithmic loss) as the loss function,\n",
    "# 'adam' (an efficient gradient descent algorithm) for optimization, \n",
    "# and 'accuracy' as the metric.\n",
    "model.compile(loss='binary_crossentropy', optimizer='adam', metrics=['accuracy'])"
   ]
  },
  {
   "cell_type": "code",
   "execution_count": null,
   "metadata": {
    "collapsed": false
   },
   "outputs": [
    {
     "name": "stdout",
     "output_type": "stream",
     "text": [
      "Epoch 1/150\n",
      "0s - loss: 0.6835 - acc: 0.6276\n",
      "Epoch 2/150\n",
      "0s - loss: 0.6677 - acc: 0.6510\n",
      "Epoch 3/150\n",
      "0s - loss: 0.6565 - acc: 0.6523\n",
      "Epoch 4/150\n",
      "0s - loss: 0.6487 - acc: 0.6497\n",
      "Epoch 5/150\n",
      "0s - loss: 0.6359 - acc: 0.6536\n",
      "Epoch 6/150\n",
      "0s - loss: 0.6263 - acc: 0.6615\n",
      "Epoch 7/150\n",
      "0s - loss: 0.6202 - acc: 0.6589\n",
      "Epoch 8/150\n",
      "0s - loss: 0.6035 - acc: 0.6862\n",
      "Epoch 9/150\n",
      "0s - loss: 0.5992 - acc: 0.7031\n",
      "Epoch 10/150\n",
      "0s - loss: 0.5932 - acc: 0.6823\n",
      "Epoch 11/150\n"
     ]
    }
   ],
   "source": [
    "# fit the model (fitting, also referred to as training)\n",
    "# nb_epoch specifies the number of epochs we will run for training\n",
    "# batch_size is the number of instances evaluated before a weight update\n",
    "model.fit(X, Y, nb_epoch=150, batch_size=10, verbose=2)"
   ]
  },
  {
   "cell_type": "code",
   "execution_count": null,
   "metadata": {
    "collapsed": false
   },
   "outputs": [],
   "source": [
    "# evaluate model\n",
    "# Ideally, we should test the fitted model on a test set.\n",
    "# But in this case, we will just test it on the same training set.\n",
    "scores = model.evaluate(X, Y)\n",
    "print(\"%s: %.2f%%\" %(model.metrics_names[1], scores[1]*100))"
   ]
  },
  {
   "cell_type": "code",
   "execution_count": null,
   "metadata": {
    "collapsed": false
   },
   "outputs": [],
   "source": [
    "# calculate predictions\n",
    "# Again, ideally, we want to make predictions on new data. In this case, we will just use the training data.\n",
    "predictions = model.predict(X)\n",
    "\n",
    "# rounding the predictions (to get 0s or 1s)\n",
    "rounded = [round(x) for x in predictions]\n",
    "print(rounded)"
   ]
  }
 ],
 "metadata": {
  "anaconda-cloud": {},
  "kernelspec": {
   "display_name": "Python [conda root]",
   "language": "python",
   "name": "conda-root-py"
  },
  "language_info": {
   "codemirror_mode": {
    "name": "ipython",
    "version": 2
   },
   "file_extension": ".py",
   "mimetype": "text/x-python",
   "name": "python",
   "nbconvert_exporter": "python",
   "pygments_lexer": "ipython2",
   "version": "2.7.12"
  }
 },
 "nbformat": 4,
 "nbformat_minor": 1
}
